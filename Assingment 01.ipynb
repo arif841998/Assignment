{
 "cells": [
  {
   "cell_type": "markdown",
   "id": "3cbaecb7-c800-48e5-8a70-4780ba1cc23a",
   "metadata": {},
   "source": [
    "Assignment Question  01    "
   ]
  },
  {
   "cell_type": "markdown",
   "id": "b3e2868e-9ac4-4977-99dd-da0172581fcc",
   "metadata": {},
   "source": [
    "Q1. Who developed Python Programming Language?"
   ]
  },
  {
   "cell_type": "markdown",
   "id": "56209bf1-309f-4a09-aeae-237c5875507b",
   "metadata": {},
   "source": [
    "Ans. Python programming language was developed by Guido van Rossum."
   ]
  },
  {
   "cell_type": "markdown",
   "id": "be733aab-8cf3-4a92-b066-21b124249ac0",
   "metadata": {},
   "source": [
    "Q2. 1.\tWhich type of Programming does Python support?"
   ]
  },
  {
   "cell_type": "markdown",
   "id": "a922918e-06bc-4eed-8389-76e3a7e73e64",
   "metadata": {},
   "source": [
    "Ans.  Python supports multiple programming paradigms including:\n",
    "•\tObject-Oriented Programming (OOP)\n",
    "•\tImperative Programming\n",
    "•\tFunctional Programming\n",
    "•\tProcedural programing\n",
    "It also has features for writing scripts, automating tasks, and developing various types of applications such as web applications, desktop applications, and scientific applications.\n"
   ]
  },
  {
   "cell_type": "markdown",
   "id": "c3018f93-a9d7-4dc1-8a4d-7972f43779bd",
   "metadata": {},
   "source": [
    "Q3. 2.\tIs Python case sensitive when dealing with identifiers?"
   ]
  },
  {
   "cell_type": "markdown",
   "id": "aec485d3-5e26-4d79-b5c6-087163093e6c",
   "metadata": {},
   "source": [
    "Ans.  Yes, Python is case sensitive when dealing with identifiers (such as variables, functions, class names, etc.) This means that the names ‘var’ , ‘Var’ , and , ‘VAR’ would be treated as three separate and distinct identifiers."
   ]
  },
  {
   "cell_type": "markdown",
   "id": "b8558ba4-6743-45e2-b605-48b0123125b0",
   "metadata": {},
   "source": [
    "Q4. What is the correct extension of the Python file?"
   ]
  },
  {
   "cell_type": "markdown",
   "id": "1cb373cb-6bc7-4159-ad75-91bac98982dd",
   "metadata": {},
   "source": [
    "Ans.  The correct extension for a Python file is ‘.py’. This extension is used to indicate that the file contains Python code and should be executed by a Python interpreter. "
   ]
  },
  {
   "cell_type": "raw",
   "id": "d6e3070c-16a0-40b6-8881-0047f58f999b",
   "metadata": {},
   "source": [
    "Q5.\tIs Python code complied or interpreted?"
   ]
  },
  {
   "cell_type": "markdown",
   "id": "b76d1e93-7c74-48b2-81b7-7d80f9ba66b9",
   "metadata": {},
   "source": [
    "Ans.  Python code is interpreted, not compiled. This means that the source code is executed line by line. Rather than being translated in machine code and then executed. The Python interpreter reads the code, translates it into bytecode, and then executes the bytecode. This provides more flexibility and interactivity than compiled languages, as changes to the code can be made and tested immediately without the need for recompilation. "
   ]
  },
  {
   "cell_type": "markdown",
   "id": "0e38ba87-093b-4fe7-8111-315430443d24",
   "metadata": {},
   "source": [
    "Q6. Name a few blocks of code used to define in Python language?"
   ]
  },
  {
   "cell_type": "markdown",
   "id": "fdcd976d-eeca-4a09-9115-1fc96e3576db",
   "metadata": {},
   "source": [
    "Ans.  In Python, there are several blocks of code used to define different:\n",
    "•\tFunctions: defined using the ‘def’ keyword followed by the function name, arguments.\n",
    "•\tClasses” defined using the ‘class’ keyword followed by the class name and the code block indented under it.\n",
    "•\tLoops: defined using keywords such as ‘for’ and ‘while’ followed by the loop conditions and the code block indented under it.\n",
    "•\tConditional statements: defined using keywords such as ‘if’, ‘elif’ , and ‘else’, followed by the conditions and the code blocks indented under it.\n",
    "•\tContext mangers: defined using the ‘with’ keyword, followed by a context manager expression and the code block indented  under it. \n",
    "•\tComprehensions: defined using a concise syntax for creating a new list, set, or dictionary based on a existing iterable. \n",
    "These blocks of code are used to structure the code, define reusable components, and control the of execution. \n"
   ]
  },
  {
   "cell_type": "markdown",
   "id": "b03f6ff1-76c1-49f2-b0cd-09c64851d55b",
   "metadata": {},
   "source": [
    "7.\tState a character used to give single-line comments in Python?"
   ]
  },
  {
   "cell_type": "markdown",
   "id": "7bfa0b2c-5940-4d65-b835-832b6fa3a266",
   "metadata": {},
   "source": [
    "Ans. The character ‘#’ is used to give single-line comments in Python. Anything following the ‘#’ symbol on a line ins ignored by the Python interpreter and is considered a comment. For example:"
   ]
  },
  {
   "cell_type": "markdown",
   "id": "926e38c0-aaaf-4891-be79-9d6abcf2c2f2",
   "metadata": {},
   "source": [
    "Q8.\tMention functions which can help us to find the version of python that we are currently working on?"
   ]
  },
  {
   "cell_type": "markdown",
   "id": "60f668ee-abde-4f28-99be-3d212a606773",
   "metadata": {},
   "source": [
    "Ans.  There are two built-in functions in Python that can help you determine the verso of Python you are currently working on:\n",
    "1. ‘sys.version’: Returns a string that contains information about the python version, including the version number, build number, build number, and build date.\n",
    "2. ‘sys.version_info’: Returns a named tuple that contains information about the Python version including the manor, minor, and micro version numbers. \n",
    "\n",
    "FOR EX:- import sys\n",
    "print(sys.version)\n",
    "print(sys.version_info)\n"
   ]
  },
  {
   "cell_type": "markdown",
   "id": "09fb1bc2-4102-4ea6-9e4c-62684a1fd67a",
   "metadata": {},
   "source": [
    "9.\tPython supports the creation of anonymous functions at runtime, using a construct called---"
   ]
  },
  {
   "cell_type": "markdown",
   "id": "9e7ae290-9d0a-4797-85d6-d681cb7d29de",
   "metadata": {},
   "source": [
    "Ans. “lambda”. The lambda construct allows you to create small, one-time use functions without the need to define a full function using the “def” keyword. These anonymous functions can be sued wherever a functions is required, and they are often used in combination with higher-order functions such as “map” of “filter”.\n",
    "Here's an example:\n",
    "square = lambda x: x**2\n",
    "print(square(5)) # prints 25\n",
    "In this example, the lambda function takes in a single argument ‘x’ and returns the square of that argument. The result is stored in a variable called ‘square’, which can then be called like a regular function.\n"
   ]
  },
  {
   "cell_type": "markdown",
   "id": "c28d5422-ebe8-4a16-9a60-76a9be382c1b",
   "metadata": {},
   "source": [
    "Q10.\tWhat does pip stand for Python?"
   ]
  },
  {
   "cell_type": "markdown",
   "id": "002c0321-63cf-499a-96b6-1dae5d382d01",
   "metadata": {},
   "source": [
    "Ans.  PIP stands for “Pip Installs Packages”. It is a package management system used to install and manage software packages written in Python. It simplifies the process of installing and updating packages by automatically downloading and installing the required dependencies. You can use the ’pip’ command in you terminal or command prompt to install packages from the Python Package Index (PyPI), which is a repository of over 200,000 open-source packages for Python."
   ]
  },
  {
   "cell_type": "markdown",
   "id": "e0db2878-274e-4678-bc69-4d0dc367db60",
   "metadata": {},
   "source": [
    "10.\tMention a few built-in functions in Python?"
   ]
  },
  {
   "cell_type": "markdown",
   "id": "60ddc691-a78d-4cf5-9174-e7e2ea60fa7d",
   "metadata": {},
   "source": [
    "\n",
    "Ans. A few built-in functions in Python:\n",
    "‘print()’ : used to display output on the screen.\n",
    "‘len()’: returns the length of an object, such as a string or list. \n",
    "‘sum()’: returns the sum of elements in an interable, such as a list.\n",
    "‘max()’: returns the maximum value in an iterable.\n",
    "‘min()’: returns a sorted list from an iterable. \n",
    "‘sorted()’: returns a sorted list from an iterable. \n",
    "‘reversed()’: returns a reverse iterator.\n",
    "‘abs()’: returns the absolute value of a number. \n",
    "‘type()’: returns the type of an object.\n",
    "‘int()’: converts a value to an integer.\n",
    "‘str()’: converts a value to a string. \n"
   ]
  },
  {
   "cell_type": "markdown",
   "id": "c6a65e0e-aca3-4fff-a8b0-307b562ce37a",
   "metadata": {},
   "source": [
    "These are just a few examples of the many built-in functions in Python. There are many others that can be used to perform various tasks, from mathematical calculations to string manipulation to data structure operations. "
   ]
  },
  {
   "cell_type": "markdown",
   "id": "288cfabf-0ff6-4797-a389-a78780ba8e14",
   "metadata": {},
   "source": [
    "Q12.What is the maximum possible length of an identifier in Python?"
   ]
  },
  {
   "cell_type": "markdown",
   "id": "84a7000b-e724-460f-b166-165f5a351d0c",
   "metadata": {},
   "source": [
    "Ans. There is no specific limit on the length of an identifier in Python. However, the maximum length of an identifier is determined by your system’s memory limitations. In practice, the length of an identifier should be reasonable and kept to a manageable size for readability and maintainability.\n",
    "\n",
    "It’s also worth noting that, according to the Python style guide (PEP 8), the recommended maximum length for an identifier name is 79 character. This is to ensure that your code remains easily readable and maintainable, even when working with long names\n"
   ]
  },
  {
   "cell_type": "markdown",
   "id": "5a7e84bb-bf05-43d3-b114-6fd7dc2405ec",
   "metadata": {},
   "source": [
    "13.\tWhat is the benefits of using Python"
   ]
  },
  {
   "cell_type": "markdown",
   "id": "d6bec180-7b70-4d3b-8905-b511ba346708",
   "metadata": {},
   "source": [
    "Ans. There are many benefits to using Python as a programming language. Some of the key advantages include:\n",
    "\n",
    "1.\tEasy to learn and use: Python has a straightforward and simple syntax, making it an ideal language for both beginners and experienced programmers.\n",
    "\n",
    "2.\tHigh-level language: Python provides high-level abstractions for various data types, making it easy to write code that is clear and concise.\n",
    "\n",
    "3.\tDynamic typing: Python uses dynamic typing, so you don’t need to specify the data type of a variable before using it.\n",
    "\n",
    "4.\tLarge community: Python has a large and active community, meaning that you can find help and support easily and get answers to any questions you may have.\n",
    "\n",
    "These benefits make Python a great choice for a wide range of projects, and its popularity continues to grow in the software development industry.\n"
   ]
  },
  {
   "cell_type": "markdown",
   "id": "5c042fd2-cf05-483d-8637-00a5673b1568",
   "metadata": {},
   "source": [
    "14.\tHow is memory managed in Python?"
   ]
  },
  {
   "cell_type": "markdown",
   "id": "39821827-ec6c-4dd5-a991-3f35ba8201b1",
   "metadata": {},
   "source": [
    "•\tIn Python, memory management is handled by the Python interpreter itself. The Python interpreter uses a private heap to store all the objects and data structures used in a program. The memory manager in the Python interpreter is responsible for allocating and freeing memory as needed.\n",
    "\n",
    "•\tPython uses a technique called reference counting to keep track of the number of references to an object in memory. When an object is no longer being used by the program, the memory manager automatically frees up the memory occupied by that object. Additionally, Python also uses a garbage collector to periodically scan the heap for objects that are no longer referenced by the program, and frees up the memory occupied by those objects.\n",
    "\n",
    "•\tOne important thing to note is that in Python, you do not have direct control over the allocation and deallocation of memory. This is in contrast to some low-level languages like C and C++, where you need to manually allocate and deallocate memory using functions such as malloc and free. In Python, you simply create objects and let the memory manager handle the rest.\n",
    "\n",
    "•\tOverall, Python's memory management system provides an automatic, efficient, and hassle-free way of managing memory, making it easier for developers to focus on writing code and solving problems, rather than worrying about memory management.\n"
   ]
  },
  {
   "cell_type": "markdown",
   "id": "62aa88d1-49b1-4aeb-94df-22410ed072c8",
   "metadata": {},
   "source": [
    "15.\tHow to Installing Python on Windows and setting the path variables involves the following steps:"
   ]
  },
  {
   "cell_type": "markdown",
   "id": "19c1303b-8d51-41c0-bf50-5f054363ba2b",
   "metadata": {},
   "source": [
    "Download Python: Go to the official Python website (https://www.python.org/downloads/) and download the latest version of Python for Windows.\n",
    "\n",
    "Run the Installer: Double-click the downloaded .exe file and run the Python installer. Follow the instructions to complete the installation process.\n",
    "\n",
    "Update the Path Environment Variable: To run Python from the command line or from within an Integrated Development Environment (IDE), you need to add the location of Python to your PATH environment variable.\n"
   ]
  },
  {
   "cell_type": "markdown",
   "id": "52c96f51-9c63-4cd5-825d-1e4db638a222",
   "metadata": {},
   "source": [
    "Q16. Is indentation required in python?"
   ]
  },
  {
   "cell_type": "markdown",
   "id": "1f8db718-f6f5-48e9-abaf-4d32d475e67f",
   "metadata": {},
   "source": [
    "Yes, indentation is required in Python. Indentation is used to indicate the block structure of the code and is used to group statements that belong together. In Python, indentation is used to define blocks of code, such as loops, functions, and conditional statements.\n",
    "\n"
   ]
  },
  {
   "cell_type": "code",
   "execution_count": null,
   "id": "e26a4967-0a05-41c7-9b7d-1e47fbe94c57",
   "metadata": {},
   "outputs": [],
   "source": []
  }
 ],
 "metadata": {
  "kernelspec": {
   "display_name": "Python 3 (ipykernel)",
   "language": "python",
   "name": "python3"
  },
  "language_info": {
   "codemirror_mode": {
    "name": "ipython",
    "version": 3
   },
   "file_extension": ".py",
   "mimetype": "text/x-python",
   "name": "python",
   "nbconvert_exporter": "python",
   "pygments_lexer": "ipython3",
   "version": "3.10.8"
  }
 },
 "nbformat": 4,
 "nbformat_minor": 5
}
